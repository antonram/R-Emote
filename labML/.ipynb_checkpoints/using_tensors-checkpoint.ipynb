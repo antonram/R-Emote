{
 "cells": [
  {
   "cell_type": "code",
   "execution_count": 322,
   "id": "ff864efc-fa21-4dcc-8215-9d9466092eb3",
   "metadata": {},
   "outputs": [],
   "source": [
    "import pandas as pd\n",
    "import numpy as np\n",
    "import matplotlib.pyplot as plt\n",
    "plt.rcParams['figure.figsize']=(10,15)\n",
    "import seaborn as sns\n",
    "sns.set_theme()\n",
    "import tensorly as tl\n",
    "import tensorly.decomposition as td\n",
    "from sklearn.decomposition import TruncatedSVD\n",
    "\n",
    "import imageio\n",
    "from PIL import Image\n",
    "import urllib.request\n",
    "from tqdm import tqdm\n",
    "\n",
    "from cairosvg import svg2png\n",
    "\n",
    "import os,time\n",
    "from glob import glob\n",
    "\n",
    "import coloredlogs, logging\n"
   ]
  },
  {
   "cell_type": "code",
   "execution_count": 240,
   "id": "5ee395c2-0d46-45c0-8600-9ac4f0301722",
   "metadata": {},
   "outputs": [],
   "source": [
    "# Create a logger object.\n",
    "logger = logging.getLogger(__name__)\n",
    "coloredlogs.install(level='ERROR')"
   ]
  },
  {
   "cell_type": "code",
   "execution_count": 241,
   "id": "ca097590-7e3b-4884-9d8a-5f04e7c3cb20",
   "metadata": {},
   "outputs": [
    {
     "data": {
      "text/html": [
       "<div>\n",
       "<style scoped>\n",
       "    .dataframe tbody tr th:only-of-type {\n",
       "        vertical-align: middle;\n",
       "    }\n",
       "\n",
       "    .dataframe tbody tr th {\n",
       "        vertical-align: top;\n",
       "    }\n",
       "\n",
       "    .dataframe thead th {\n",
       "        text-align: right;\n",
       "    }\n",
       "</style>\n",
       "<table border=\"1\" class=\"dataframe\">\n",
       "  <thead>\n",
       "    <tr style=\"text-align: right;\">\n",
       "      <th></th>\n",
       "      <th>country</th>\n",
       "      <th>images_file</th>\n",
       "      <th>image_url</th>\n",
       "      <th>alpha-2</th>\n",
       "      <th>alpha-3</th>\n",
       "      <th>country-code</th>\n",
       "      <th>iso_3166-2</th>\n",
       "      <th>region</th>\n",
       "      <th>sub-region</th>\n",
       "      <th>intermediate-region</th>\n",
       "      <th>region-code</th>\n",
       "      <th>sub-region-code</th>\n",
       "      <th>intermediate-region-code</th>\n",
       "    </tr>\n",
       "  </thead>\n",
       "  <tbody>\n",
       "    <tr>\n",
       "      <th>0</th>\n",
       "      <td>Afghanistan</td>\n",
       "      <td>Flag_of_Afghanistan.svg</td>\n",
       "      <td>https://upload.wikimedia.org/wikipedia/commons...</td>\n",
       "      <td>AF</td>\n",
       "      <td>AFG</td>\n",
       "      <td>4.0</td>\n",
       "      <td>ISO 3166-2:AF</td>\n",
       "      <td>Asia</td>\n",
       "      <td>Southern Asia</td>\n",
       "      <td>NaN</td>\n",
       "      <td>142.0</td>\n",
       "      <td>34.0</td>\n",
       "      <td>NaN</td>\n",
       "    </tr>\n",
       "    <tr>\n",
       "      <th>1</th>\n",
       "      <td>Albania</td>\n",
       "      <td>Flag_of_Albania.svg</td>\n",
       "      <td>https://upload.wikimedia.org/wikipedia/commons...</td>\n",
       "      <td>AL</td>\n",
       "      <td>ALB</td>\n",
       "      <td>8.0</td>\n",
       "      <td>ISO 3166-2:AL</td>\n",
       "      <td>Europe</td>\n",
       "      <td>Southern Europe</td>\n",
       "      <td>NaN</td>\n",
       "      <td>150.0</td>\n",
       "      <td>39.0</td>\n",
       "      <td>NaN</td>\n",
       "    </tr>\n",
       "    <tr>\n",
       "      <th>2</th>\n",
       "      <td>Algeria</td>\n",
       "      <td>Flag_of_Algeria.svg</td>\n",
       "      <td>https://upload.wikimedia.org/wikipedia/commons...</td>\n",
       "      <td>DZ</td>\n",
       "      <td>DZA</td>\n",
       "      <td>12.0</td>\n",
       "      <td>ISO 3166-2:DZ</td>\n",
       "      <td>Africa</td>\n",
       "      <td>Northern Africa</td>\n",
       "      <td>NaN</td>\n",
       "      <td>2.0</td>\n",
       "      <td>15.0</td>\n",
       "      <td>NaN</td>\n",
       "    </tr>\n",
       "    <tr>\n",
       "      <th>3</th>\n",
       "      <td>Andorra</td>\n",
       "      <td>Flag_of_Andorra.svg</td>\n",
       "      <td>https://upload.wikimedia.org/wikipedia/commons...</td>\n",
       "      <td>AD</td>\n",
       "      <td>AND</td>\n",
       "      <td>20.0</td>\n",
       "      <td>ISO 3166-2:AD</td>\n",
       "      <td>Europe</td>\n",
       "      <td>Southern Europe</td>\n",
       "      <td>NaN</td>\n",
       "      <td>150.0</td>\n",
       "      <td>39.0</td>\n",
       "      <td>NaN</td>\n",
       "    </tr>\n",
       "    <tr>\n",
       "      <th>4</th>\n",
       "      <td>Angola</td>\n",
       "      <td>Flag_of_Angola.svg</td>\n",
       "      <td>https://upload.wikimedia.org/wikipedia/commons...</td>\n",
       "      <td>AO</td>\n",
       "      <td>AGO</td>\n",
       "      <td>24.0</td>\n",
       "      <td>ISO 3166-2:AO</td>\n",
       "      <td>Africa</td>\n",
       "      <td>Sub-Saharan Africa</td>\n",
       "      <td>Middle Africa</td>\n",
       "      <td>2.0</td>\n",
       "      <td>202.0</td>\n",
       "      <td>17.0</td>\n",
       "    </tr>\n",
       "  </tbody>\n",
       "</table>\n",
       "</div>"
      ],
      "text/plain": [
       "       country              images_file  \\\n",
       "0  Afghanistan  Flag_of_Afghanistan.svg   \n",
       "1      Albania      Flag_of_Albania.svg   \n",
       "2      Algeria      Flag_of_Algeria.svg   \n",
       "3      Andorra      Flag_of_Andorra.svg   \n",
       "4       Angola       Flag_of_Angola.svg   \n",
       "\n",
       "                                           image_url alpha-2 alpha-3  \\\n",
       "0  https://upload.wikimedia.org/wikipedia/commons...      AF     AFG   \n",
       "1  https://upload.wikimedia.org/wikipedia/commons...      AL     ALB   \n",
       "2  https://upload.wikimedia.org/wikipedia/commons...      DZ     DZA   \n",
       "3  https://upload.wikimedia.org/wikipedia/commons...      AD     AND   \n",
       "4  https://upload.wikimedia.org/wikipedia/commons...      AO     AGO   \n",
       "\n",
       "   country-code     iso_3166-2  region          sub-region  \\\n",
       "0           4.0  ISO 3166-2:AF    Asia       Southern Asia   \n",
       "1           8.0  ISO 3166-2:AL  Europe     Southern Europe   \n",
       "2          12.0  ISO 3166-2:DZ  Africa     Northern Africa   \n",
       "3          20.0  ISO 3166-2:AD  Europe     Southern Europe   \n",
       "4          24.0  ISO 3166-2:AO  Africa  Sub-Saharan Africa   \n",
       "\n",
       "  intermediate-region  region-code  sub-region-code  intermediate-region-code  \n",
       "0                 NaN        142.0             34.0                       NaN  \n",
       "1                 NaN        150.0             39.0                       NaN  \n",
       "2                 NaN          2.0             15.0                       NaN  \n",
       "3                 NaN        150.0             39.0                       NaN  \n",
       "4       Middle Africa          2.0            202.0                      17.0  "
      ]
     },
     "execution_count": 241,
     "metadata": {},
     "output_type": "execute_result"
    }
   ],
   "source": [
    "df = pd.read_csv('flags_url.csv')\n",
    "df.head()"
   ]
  },
  {
   "cell_type": "code",
   "execution_count": 242,
   "id": "cfecdaad-2dff-4779-a7a0-1a1c3796b1c8",
   "metadata": {},
   "outputs": [
    {
     "name": "stderr",
     "output_type": "stream",
     "text": [
      "100%|\u001b[32m██████████████████████████████\u001b[0m| 273/273 [00:00<00:00, 602.05it/s]\u001b[0m\n"
     ]
    }
   ],
   "source": [
    "#download all flags\n",
    "for i in tqdm(range(len(df)),ncols=70, colour='green'):\n",
    "    code = df.iloc[i]['alpha-2']\n",
    "    url = df.iloc[i].image_url\n",
    "    path = f'flags/{code}.svg'\n",
    "    if(os.path.isfile(path)): continue\n",
    "    try:\n",
    "        urllib.request.urlretrieve(url,path)\n",
    "    except:\n",
    "        pass"
   ]
  },
  {
   "cell_type": "code",
   "execution_count": 243,
   "id": "84ec2548-c134-445b-bb68-fb8a27bb91da",
   "metadata": {},
   "outputs": [
    {
     "name": "stderr",
     "output_type": "stream",
     "text": [
      "100%|\u001b[35m███████████████████████████████\u001b[0m| 189/189 [00:06<00:00, 27.58it/s]\u001b[0m\n"
     ]
    }
   ],
   "source": [
    "for f in tqdm(glob('flags/*.svg'), ncols=70,colour='magenta'):\n",
    "    pngpath = f.split('.')[0]+'.png'\n",
    "    try:\n",
    "        svg2png(url=f, write_to=pngpath)\n",
    "    except:\n",
    "        pass"
   ]
  },
  {
   "cell_type": "code",
   "execution_count": 244,
   "id": "7285e357-6334-4199-8079-91ae34655854",
   "metadata": {},
   "outputs": [],
   "source": [
    "def read_flag(countrycode='IN'):\n",
    "    countrycode = countrycode.upper()\n",
    "    #url = df[df['alpha-2']==countrycode].image_url\n",
    "    path = f'flags/{countrycode}.png'\n",
    "    flag = Image.open(path).convert('RGB').resize((128,64),)\n",
    "    flag = np.array(flag)\n",
    "    return flag"
   ]
  },
  {
   "cell_type": "code",
   "execution_count": 245,
   "id": "747527e7-237a-43e1-aa47-f3192d811c02",
   "metadata": {},
   "outputs": [
    {
     "data": {
      "text/plain": [
       "(64, 128, 3)"
      ]
     },
     "execution_count": 245,
     "metadata": {},
     "output_type": "execute_result"
    }
   ],
   "source": [
    "flag = read_flag('GB')\n",
    "flag.shape"
   ]
  },
  {
   "cell_type": "code",
   "execution_count": 246,
   "id": "ae8bdbda-1c7e-4def-a0fc-0833b4849bb3",
   "metadata": {},
   "outputs": [
    {
     "data": {
      "text/plain": [
       "(-0.5, 127.5, 63.5, -0.5)"
      ]
     },
     "execution_count": 246,
     "metadata": {},
     "output_type": "execute_result"
    },
    {
     "data": {
      "image/png": "[encoded data removed]",
      "text/plain": [
       "<Figure size 360x504 with 1 Axes>"
      ]
     },
     "metadata": {},
     "output_type": "display_data"
    }
   ],
   "source": [
    "plt.imshow(flag)\n",
    "plt.axis('off')"
   ]
  },
  {
   "cell_type": "code",
   "execution_count": 375,
   "id": "87a10171-7245-410b-b0a4-8da011242e81",
   "metadata": {},
   "outputs": [],
   "source": [
    "def decompose(_FLAG,_RANK):\n",
    "    #(w,f),e = td.non_negative_parafac(np.array(_FLAG,dtype=float),rank=_RANK, n_iter_max=int(1e4), return_errors=True)\n",
    "    (w,f),e = td.parafac(np.array(_FLAG,dtype=float),orthogonalise=True,rank=_RANK, n_iter_max=int(1e4), return_errors=True)\n",
    "    \n",
    "    #print(f'iters:{len(e)}, error: {e[-1]}')\n",
    "    \n",
    "    comps=[]\n",
    "    for r in range(_RANK):\n",
    "        a = f[0][:,r]\n",
    "        b = f[1][:,r]\n",
    "        c = f[2][:,r]\n",
    "        \n",
    "        a/=np.linalg.norm(a)\n",
    "        b/=np.linalg.norm(b)\n",
    "        c/=np.linalg.norm(c)\n",
    "        \n",
    "        comps.append(np.outer(np.outer(a,b),c).reshape(_FLAG.shape))\n",
    "    return comps,e[-1]"
   ]
  },
  {
   "cell_type": "code",
   "execution_count": 348,
   "id": "645ff10a-fcba-4a11-b797-ae37e132f3ec",
   "metadata": {},
   "outputs": [
    {
     "data": {
      "image/png": "[encoded data removed]",
      "text/plain": [
       "<Figure size 720x1080 with 5 Axes>"
      ]
     },
     "metadata": {},
     "output_type": "display_data"
    }
   ],
   "source": [
    "# Example factorization\n",
    "\n",
    "R=4\n",
    "flag_decomp,error = decompose(flag,R)\n",
    "\n",
    "f, axes = plt.subplots(1, R, figsize=(10,15))\n",
    "for r,ax in enumerate(axes):\n",
    "    ax.imshow(flag_decomp[r]*255)"
   ]
  },
  {
   "cell_type": "code",
   "execution_count": 420,
   "id": "f5f36914-d9cd-47d8-b651-b3800b281c34",
   "metadata": {},
   "outputs": [],
   "source": [
    "# https://www.britannica.com/list/flags-that-look-alike\n",
    "\n",
    "allpngs = ['Venezuela', 'Ecuador', 'Colombia']\n",
    "allpngs+= ['Slovenia', 'Russia', 'Slovakia']\n",
    "allpngs+= ['Luxembourg','Netherlands']\n",
    "allpngs+= ['Norway','Iceland']\n",
    "allpngs+= ['New Zealand', 'Australia']\n",
    "allpngs+= ['Indonesia', 'Monaco']\n",
    "allpngs+= ['Senegal','Mali']\n",
    "\n",
    "\n",
    "countries = list(map(lambda x:  df[df.country==x]['alpha-2'].to_list()[0] if df[df.country==x]['alpha-2'].to_list() else '', allpngs))\n",
    "#countries"
   ]
  },
  {
   "cell_type": "code",
   "execution_count": 429,
   "id": "945dadb2-178d-4305-9c9e-03b193efda87",
   "metadata": {},
   "outputs": [
    {
     "name": "stderr",
     "output_type": "stream",
     "text": [
      " 12%|\u001b[34m████▎                             \u001b[0m| 2/16 [00:47<05:54, 25.31s/it]\u001b[0m/home/sampad/.local/lib/python3.9/site-packages/tensorly/backend/core.py:910: RuntimeWarning: invalid value encountered in sqrt\n",
      "  S = np.where(np.abs(S) <= np.finfo(S.dtype).eps, 0, np.sqrt(S))\n",
      "/home/sampad/.local/lib/python3.9/site-packages/tensorly/backend/core.py:911: RuntimeWarning: divide by zero encountered in true_divide\n",
      "  V = np.dot(matrix.T.conj(), U * np.where(np.abs(S) <= np.finfo(S.dtype).eps, 0, 1/S)[None, :])\n",
      " 12%|\u001b[34m████▎                             \u001b[0m| 2/16 [00:49<05:45, 24.71s/it]\u001b[0m\n"
     ]
    },
    {
     "ename": "ArpackError",
     "evalue": "ARPACK error 3: No shifts could be applied during a cycle of the Implicitly restarted Arnoldi iteration. One possibility is to increase the size of NCV relative to NEV. ",
     "output_type": "error",
     "traceback": [
      "\u001b[0;31m---------------------------------------------------------------------------\u001b[0m",
      "\u001b[0;31mArpackError\u001b[0m                               Traceback (most recent call last)",
      "\u001b[0;32m/tmp/ipykernel_114314/124886059.py\u001b[0m in \u001b[0;36m<module>\u001b[0;34m\u001b[0m\n\u001b[1;32m     14\u001b[0m \u001b[0;34m\u001b[0m\u001b[0m\n\u001b[1;32m     15\u001b[0m     \u001b[0;32mfor\u001b[0m \u001b[0mr\u001b[0m \u001b[0;32min\u001b[0m \u001b[0mrange\u001b[0m\u001b[0;34m(\u001b[0m\u001b[0;36m1\u001b[0m\u001b[0;34m,\u001b[0m\u001b[0mMAX_RANK\u001b[0m\u001b[0;34m)\u001b[0m\u001b[0;34m:\u001b[0m\u001b[0;34m\u001b[0m\u001b[0;34m\u001b[0m\u001b[0m\n\u001b[0;32m---> 16\u001b[0;31m         \u001b[0mfactors\u001b[0m\u001b[0;34m,\u001b[0m\u001b[0me\u001b[0m \u001b[0;34m=\u001b[0m \u001b[0mdecompose\u001b[0m\u001b[0;34m(\u001b[0m\u001b[0m__flag\u001b[0m\u001b[0;34m,\u001b[0m\u001b[0mr\u001b[0m\u001b[0;34m)\u001b[0m\u001b[0;34m\u001b[0m\u001b[0;34m\u001b[0m\u001b[0m\n\u001b[0m\u001b[1;32m     17\u001b[0m         \u001b[0m__feat_factors\u001b[0m\u001b[0;34m.\u001b[0m\u001b[0mappend\u001b[0m\u001b[0;34m(\u001b[0m\u001b[0me\u001b[0m\u001b[0;34m)\u001b[0m\u001b[0;34m\u001b[0m\u001b[0;34m\u001b[0m\u001b[0m\n\u001b[1;32m     18\u001b[0m \u001b[0;34m\u001b[0m\u001b[0m\n",
      "\u001b[0;32m/tmp/ipykernel_114314/1508112471.py\u001b[0m in \u001b[0;36mdecompose\u001b[0;34m(_FLAG, _RANK)\u001b[0m\n\u001b[1;32m      1\u001b[0m \u001b[0;32mdef\u001b[0m \u001b[0mdecompose\u001b[0m\u001b[0;34m(\u001b[0m\u001b[0m_FLAG\u001b[0m\u001b[0;34m,\u001b[0m\u001b[0m_RANK\u001b[0m\u001b[0;34m)\u001b[0m\u001b[0;34m:\u001b[0m\u001b[0;34m\u001b[0m\u001b[0;34m\u001b[0m\u001b[0m\n\u001b[1;32m      2\u001b[0m     \u001b[0;31m#(w,f),e = td.non_negative_parafac(np.array(_FLAG,dtype=float),rank=_RANK, n_iter_max=int(1e4), return_errors=True)\u001b[0m\u001b[0;34m\u001b[0m\u001b[0;34m\u001b[0m\u001b[0;34m\u001b[0m\u001b[0m\n\u001b[0;32m----> 3\u001b[0;31m     \u001b[0;34m(\u001b[0m\u001b[0mw\u001b[0m\u001b[0;34m,\u001b[0m\u001b[0mf\u001b[0m\u001b[0;34m)\u001b[0m\u001b[0;34m,\u001b[0m\u001b[0me\u001b[0m \u001b[0;34m=\u001b[0m \u001b[0mtd\u001b[0m\u001b[0;34m.\u001b[0m\u001b[0mparafac\u001b[0m\u001b[0;34m(\u001b[0m\u001b[0mnp\u001b[0m\u001b[0;34m.\u001b[0m\u001b[0marray\u001b[0m\u001b[0;34m(\u001b[0m\u001b[0m_FLAG\u001b[0m\u001b[0;34m,\u001b[0m\u001b[0mdtype\u001b[0m\u001b[0;34m=\u001b[0m\u001b[0mfloat\u001b[0m\u001b[0;34m)\u001b[0m\u001b[0;34m,\u001b[0m\u001b[0morthogonalise\u001b[0m\u001b[0;34m=\u001b[0m\u001b[0;32mTrue\u001b[0m\u001b[0;34m,\u001b[0m\u001b[0mrank\u001b[0m\u001b[0;34m=\u001b[0m\u001b[0m_RANK\u001b[0m\u001b[0;34m,\u001b[0m \u001b[0mn_iter_max\u001b[0m\u001b[0;34m=\u001b[0m\u001b[0mint\u001b[0m\u001b[0;34m(\u001b[0m\u001b[0;36m1e4\u001b[0m\u001b[0;34m)\u001b[0m\u001b[0;34m,\u001b[0m \u001b[0mreturn_errors\u001b[0m\u001b[0;34m=\u001b[0m\u001b[0;32mTrue\u001b[0m\u001b[0;34m)\u001b[0m\u001b[0;34m\u001b[0m\u001b[0;34m\u001b[0m\u001b[0m\n\u001b[0m\u001b[1;32m      4\u001b[0m \u001b[0;34m\u001b[0m\u001b[0m\n\u001b[1;32m      5\u001b[0m     \u001b[0;31m#print(f'iters:{len(e)}, error: {e[-1]}')\u001b[0m\u001b[0;34m\u001b[0m\u001b[0;34m\u001b[0m\u001b[0;34m\u001b[0m\u001b[0m\n",
      "\u001b[0;32m~/.local/lib/python3.9/site-packages/tensorly/decomposition/_cp.py\u001b[0m in \u001b[0;36mparafac\u001b[0;34m(tensor, rank, n_iter_max, init, svd, normalize_factors, orthogonalise, tol, random_state, verbose, return_errors, sparsity, l2_reg, mask, cvg_criterion, fixed_modes, svd_mask_repeats, linesearch)\u001b[0m\n\u001b[1;32m    279\u001b[0m         \u001b[0mmax_fail\u001b[0m \u001b[0;34m=\u001b[0m \u001b[0;36m4\u001b[0m \u001b[0;31m# Increase acc_pow with one after max_fail failure\u001b[0m\u001b[0;34m\u001b[0m\u001b[0;34m\u001b[0m\u001b[0m\n\u001b[1;32m    280\u001b[0m \u001b[0;34m\u001b[0m\u001b[0m\n\u001b[0;32m--> 281\u001b[0;31m     weights, factors = initialize_cp(tensor, rank, init=init, svd=svd,\n\u001b[0m\u001b[1;32m    282\u001b[0m                                  \u001b[0mrandom_state\u001b[0m\u001b[0;34m=\u001b[0m\u001b[0mrandom_state\u001b[0m\u001b[0;34m,\u001b[0m\u001b[0;34m\u001b[0m\u001b[0;34m\u001b[0m\u001b[0m\n\u001b[1;32m    283\u001b[0m                                  normalize_factors=normalize_factors)\n",
      "\u001b[0;32m~/.local/lib/python3.9/site-packages/tensorly/decomposition/_cp.py\u001b[0m in \u001b[0;36minitialize_cp\u001b[0;34m(tensor, rank, init, svd, random_state, normalize_factors)\u001b[0m\n\u001b[1;32m     57\u001b[0m         \u001b[0mfactors\u001b[0m \u001b[0;34m=\u001b[0m \u001b[0;34m[\u001b[0m\u001b[0;34m]\u001b[0m\u001b[0;34m\u001b[0m\u001b[0;34m\u001b[0m\u001b[0m\n\u001b[1;32m     58\u001b[0m         \u001b[0;32mfor\u001b[0m \u001b[0mmode\u001b[0m \u001b[0;32min\u001b[0m \u001b[0mrange\u001b[0m\u001b[0;34m(\u001b[0m\u001b[0mtl\u001b[0m\u001b[0;34m.\u001b[0m\u001b[0mndim\u001b[0m\u001b[0;34m(\u001b[0m\u001b[0mtensor\u001b[0m\u001b[0;34m)\u001b[0m\u001b[0;34m)\u001b[0m\u001b[0;34m:\u001b[0m\u001b[0;34m\u001b[0m\u001b[0;34m\u001b[0m\u001b[0m\n\u001b[0;32m---> 59\u001b[0;31m             \u001b[0mU\u001b[0m\u001b[0;34m,\u001b[0m \u001b[0mS\u001b[0m\u001b[0;34m,\u001b[0m \u001b[0m_\u001b[0m \u001b[0;34m=\u001b[0m \u001b[0msvd_fun\u001b[0m\u001b[0;34m(\u001b[0m\u001b[0munfold\u001b[0m\u001b[0;34m(\u001b[0m\u001b[0mtensor\u001b[0m\u001b[0;34m,\u001b[0m \u001b[0mmode\u001b[0m\u001b[0;34m)\u001b[0m\u001b[0;34m,\u001b[0m \u001b[0mn_eigenvecs\u001b[0m\u001b[0;34m=\u001b[0m\u001b[0mrank\u001b[0m\u001b[0;34m)\u001b[0m\u001b[0;34m\u001b[0m\u001b[0;34m\u001b[0m\u001b[0m\n\u001b[0m\u001b[1;32m     60\u001b[0m \u001b[0;34m\u001b[0m\u001b[0m\n\u001b[1;32m     61\u001b[0m             \u001b[0;31m# Put SVD initialization on the same scaling as the tensor in case normalize_factors=False\u001b[0m\u001b[0;34m\u001b[0m\u001b[0;34m\u001b[0m\u001b[0;34m\u001b[0m\u001b[0m\n",
      "\u001b[0;32m~/.local/lib/python3.9/site-packages/tensorly/backend/core.py\u001b[0m in \u001b[0;36mpartial_svd\u001b[0;34m(self, matrix, n_eigenvecs, random_state, **kwargs)\u001b[0m\n\u001b[1;32m    905\u001b[0m             \u001b[0;31m# First choose whether to use X * X.T or X.T *X\u001b[0m\u001b[0;34m\u001b[0m\u001b[0;34m\u001b[0m\u001b[0;34m\u001b[0m\u001b[0m\n\u001b[1;32m    906\u001b[0m             \u001b[0;32mif\u001b[0m \u001b[0mdim_1\u001b[0m \u001b[0;34m<\u001b[0m \u001b[0mdim_2\u001b[0m\u001b[0;34m:\u001b[0m\u001b[0;34m\u001b[0m\u001b[0;34m\u001b[0m\u001b[0m\n\u001b[0;32m--> 907\u001b[0;31m                 S, U = scipy.sparse.linalg.eigsh(\n\u001b[0m\u001b[1;32m    908\u001b[0m                     \u001b[0mnp\u001b[0m\u001b[0;34m.\u001b[0m\u001b[0mdot\u001b[0m\u001b[0;34m(\u001b[0m\u001b[0mmatrix\u001b[0m\u001b[0;34m,\u001b[0m \u001b[0mmatrix\u001b[0m\u001b[0;34m.\u001b[0m\u001b[0mT\u001b[0m\u001b[0;34m.\u001b[0m\u001b[0mconj\u001b[0m\u001b[0;34m(\u001b[0m\u001b[0;34m)\u001b[0m\u001b[0;34m)\u001b[0m\u001b[0;34m,\u001b[0m \u001b[0mk\u001b[0m\u001b[0;34m=\u001b[0m\u001b[0mn_eigenvecs\u001b[0m\u001b[0;34m,\u001b[0m \u001b[0mwhich\u001b[0m\u001b[0;34m=\u001b[0m\u001b[0;34m'LM'\u001b[0m\u001b[0;34m,\u001b[0m \u001b[0mv0\u001b[0m\u001b[0;34m=\u001b[0m\u001b[0mv0\u001b[0m\u001b[0;34m\u001b[0m\u001b[0;34m\u001b[0m\u001b[0m\n\u001b[1;32m    909\u001b[0m                 )\n",
      "\u001b[0;32m~/.local/lib/python3.9/site-packages/scipy/sparse/linalg/eigen/arpack/arpack.py\u001b[0m in \u001b[0;36meigsh\u001b[0;34m(A, k, M, sigma, which, v0, ncv, maxiter, tol, return_eigenvectors, Minv, OPinv, mode)\u001b[0m\n\u001b[1;32m   1688\u001b[0m     \u001b[0;32mwith\u001b[0m \u001b[0m_ARPACK_LOCK\u001b[0m\u001b[0;34m:\u001b[0m\u001b[0;34m\u001b[0m\u001b[0;34m\u001b[0m\u001b[0m\n\u001b[1;32m   1689\u001b[0m         \u001b[0;32mwhile\u001b[0m \u001b[0;32mnot\u001b[0m \u001b[0mparams\u001b[0m\u001b[0;34m.\u001b[0m\u001b[0mconverged\u001b[0m\u001b[0;34m:\u001b[0m\u001b[0;34m\u001b[0m\u001b[0;34m\u001b[0m\u001b[0m\n\u001b[0;32m-> 1690\u001b[0;31m             \u001b[0mparams\u001b[0m\u001b[0;34m.\u001b[0m\u001b[0miterate\u001b[0m\u001b[0;34m(\u001b[0m\u001b[0;34m)\u001b[0m\u001b[0;34m\u001b[0m\u001b[0;34m\u001b[0m\u001b[0m\n\u001b[0m\u001b[1;32m   1691\u001b[0m \u001b[0;34m\u001b[0m\u001b[0m\n\u001b[1;32m   1692\u001b[0m         \u001b[0;32mreturn\u001b[0m \u001b[0mparams\u001b[0m\u001b[0;34m.\u001b[0m\u001b[0mextract\u001b[0m\u001b[0;34m(\u001b[0m\u001b[0mreturn_eigenvectors\u001b[0m\u001b[0;34m)\u001b[0m\u001b[0;34m\u001b[0m\u001b[0;34m\u001b[0m\u001b[0m\n",
      "\u001b[0;32m~/.local/lib/python3.9/site-packages/scipy/sparse/linalg/eigen/arpack/arpack.py\u001b[0m in \u001b[0;36miterate\u001b[0;34m(self)\u001b[0m\n\u001b[1;32m    570\u001b[0m                 \u001b[0mself\u001b[0m\u001b[0;34m.\u001b[0m\u001b[0m_raise_no_convergence\u001b[0m\u001b[0;34m(\u001b[0m\u001b[0;34m)\u001b[0m\u001b[0;34m\u001b[0m\u001b[0;34m\u001b[0m\u001b[0m\n\u001b[1;32m    571\u001b[0m             \u001b[0;32melse\u001b[0m\u001b[0;34m:\u001b[0m\u001b[0;34m\u001b[0m\u001b[0;34m\u001b[0m\u001b[0m\n\u001b[0;32m--> 572\u001b[0;31m                 \u001b[0;32mraise\u001b[0m \u001b[0mArpackError\u001b[0m\u001b[0;34m(\u001b[0m\u001b[0mself\u001b[0m\u001b[0;34m.\u001b[0m\u001b[0minfo\u001b[0m\u001b[0;34m,\u001b[0m \u001b[0minfodict\u001b[0m\u001b[0;34m=\u001b[0m\u001b[0mself\u001b[0m\u001b[0;34m.\u001b[0m\u001b[0miterate_infodict\u001b[0m\u001b[0;34m)\u001b[0m\u001b[0;34m\u001b[0m\u001b[0;34m\u001b[0m\u001b[0m\n\u001b[0m\u001b[1;32m    573\u001b[0m \u001b[0;34m\u001b[0m\u001b[0m\n\u001b[1;32m    574\u001b[0m     \u001b[0;32mdef\u001b[0m \u001b[0mextract\u001b[0m\u001b[0;34m(\u001b[0m\u001b[0mself\u001b[0m\u001b[0;34m,\u001b[0m \u001b[0mreturn_eigenvectors\u001b[0m\u001b[0;34m)\u001b[0m\u001b[0;34m:\u001b[0m\u001b[0;34m\u001b[0m\u001b[0;34m\u001b[0m\u001b[0m\n",
      "\u001b[0;31mArpackError\u001b[0m: ARPACK error 3: No shifts could be applied during a cycle of the Implicitly restarted Arnoldi iteration. One possibility is to increase the size of NCV relative to NEV. "
     ]
    }
   ],
   "source": [
    "features = []\n",
    "MAX_RANK=7\n",
    "for c in tqdm(countries, ncols=70, colour='blue'):\n",
    "    \n",
    "    __feat_colors=[]\n",
    "    __feat_factors=[]\n",
    "    __flag = read_flag(c)\n",
    "    __flag_normalised = __flag/np.linalg.norm(__flag)\n",
    "    \n",
    "    \n",
    "    for channel in range(3):\n",
    "        channel_weight = np.linalg.norm(__flag_normalised[:,:,channel])\n",
    "        __feat_colors.append(channel_weight)\n",
    "        \n",
    "    for r in range(1,MAX_RANK):\n",
    "        factors,e = decompose(__flag,r)\n",
    "        __feat_factors.append(e)\n",
    "    \n",
    "    \n",
    "    features.append([__feat_colors, __feat_factors])\n",
    "        "
   ]
  },
  {
   "cell_type": "code",
   "execution_count": 417,
   "id": "ae57dda9-2b0d-4d0b-8c99-59988ea8dadd",
   "metadata": {},
   "outputs": [
    {
     "data": {
      "text/plain": [
       "array([[7.94401037e-01, 5.09950099e-01, 3.29966496e-01, 4.21770070e-01,\n",
       "        2.76124957e-01, 1.14666552e-01, 9.28351087e-02, 7.09520672e-02,\n",
       "        4.74007593e-02],\n",
       "       [7.65802601e-01, 5.73390931e-01, 2.91151537e-01, 4.05393126e-01,\n",
       "        2.78779453e-01, 1.61969159e-01, 1.23155936e-01, 9.99181330e-02,\n",
       "        8.61208891e-02],\n",
       "       [7.71885525e-01, 5.65755457e-01, 2.90023273e-01, 3.51309155e-01,\n",
       "        2.10467164e-01, 7.31185583e-08, 6.72592912e-08, 7.02500385e-08,\n",
       "        8.11177573e-08],\n",
       "       [6.35979631e-01, 4.76663474e-01, 6.06895247e-01, 4.73379630e-01,\n",
       "        1.77560516e-01, 9.96695467e-02, 5.33610504e-02, 3.93976957e-02,\n",
       "        3.37716079e-02],\n",
       "       [6.33826435e-01, 5.05887533e-01, 5.85099867e-01, 3.50503027e-01,\n",
       "        9.98705900e-02, 3.58117613e-08, 7.59682177e-08, 5.37176419e-08,\n",
       "        8.00775326e-08],\n",
       "       [6.73254463e-01, 4.93801447e-01, 5.50353122e-01, 3.96756975e-01,\n",
       "        2.42162537e-01, 1.69561284e-01, 1.13668197e-01, 9.39161255e-02,\n",
       "        7.53564958e-02],\n",
       "       [6.04666719e-01, 5.28291767e-01, 5.96058695e-01, 3.85304417e-01,\n",
       "        5.46574657e-02, 4.60413342e-08, 6.30446933e-08, 4.30677246e-08,\n",
       "        1.27135790e-07],\n",
       "       [6.17907031e-01, 5.27456945e-01, 5.83078102e-01, 2.69465703e-01,\n",
       "        8.52026246e-02, 3.23228925e-08, 6.72854663e-08, 0.00000000e+00,\n",
       "        9.14229459e-08],\n",
       "       [7.55033674e-01, 4.29430651e-01, 4.95493156e-01, 3.98460293e-01,\n",
       "        9.95379219e-02, 1.17837840e-02, 6.42169457e-03, 5.87283916e-03,\n",
       "        4.35703186e-03],\n",
       "       [5.63022042e-01, 4.91469950e-01, 6.64427173e-01, 4.54547049e-01,\n",
       "        1.80199265e-01, 1.27682384e-03, 1.18881451e-03, 1.08130053e-03,\n",
       "        9.29730794e-04],\n",
       "       [5.61977089e-01, 4.47112168e-01, 6.95896875e-01, 5.57192248e-01,\n",
       "        4.22184366e-01, 3.79332069e-01, 3.15020333e-01, 2.80494323e-01,\n",
       "        2.64996403e-01],\n",
       "       [5.79276852e-01, 4.58567437e-01, 6.73909663e-01, 5.86305639e-01,\n",
       "        4.73824498e-01, 4.23353409e-01, 3.67781041e-01, 3.26787365e-01,\n",
       "        2.92280849e-01],\n",
       "       [7.07906724e-01, 4.99433714e-01, 4.99433714e-01, 3.81633864e-01,\n",
       "        2.99530415e-08, 8.47199951e-08, 2.38686464e-07, 8.73273721e-08,\n",
       "        6.35399963e-08],\n",
       "       [6.70835969e-01, 5.21995413e-01, 5.26782584e-01, 2.81242934e-01,\n",
       "        1.37680299e-04, 2.20823183e-08, 6.04749192e-08, 6.24582280e-08,\n",
       "        8.83292732e-08],\n",
       "       [7.57498408e-01, 6.13933862e-01, 2.21994087e-01, 4.01907362e-01,\n",
       "        1.37697450e-01, 9.38262127e-02, 6.76740144e-02, 4.82238583e-02,\n",
       "        3.30319562e-02],\n",
       "       [7.51254350e-01, 6.38348678e-01, 1.67713646e-01, 4.13475401e-01,\n",
       "        1.00415894e-01, 3.73303173e-08, 5.05454885e-08, 4.81932324e-08,\n",
       "        6.98386287e-08]])"
      ]
     },
     "execution_count": 417,
     "metadata": {},
     "output_type": "execute_result"
    }
   ],
   "source": [
    "feat_matrix = np.array(features)\n",
    "feat_matrix"
   ]
  },
  {
   "cell_type": "code",
   "execution_count": 421,
   "id": "b72c5772-3d12-493e-912e-3afb691e86f6",
   "metadata": {},
   "outputs": [
    {
     "data": {
      "text/plain": [
       "array([[ 1.11115544, -0.0246546 ,  0.20153775],\n",
       "       [ 1.11057118,  0.01604602,  0.25644839],\n",
       "       [ 1.04371947, -0.20584803,  0.16968376],\n",
       "       [ 1.11783291,  0.02535504, -0.1254378 ],\n",
       "       [ 1.04361084, -0.12707311, -0.16387222],\n",
       "       [ 1.1218738 ,  0.09971298, -0.01854816],\n",
       "       [ 1.04654284, -0.1335593 , -0.18819611],\n",
       "       [ 1.00988575, -0.14546152, -0.17201101],\n",
       "       [ 1.06241771, -0.14931725, -0.05652312],\n",
       "       [ 1.08202871, -0.03329419, -0.22782179],\n",
       "       [ 1.24305183,  0.5783384 , -0.02123868],\n",
       "       [ 1.28120385,  0.65620186,  0.04388362],\n",
       "       [ 1.04263814, -0.20410401, -0.09369105],\n",
       "       [ 1.00470511, -0.20634107, -0.13043767],\n",
       "       [ 1.05189796, -0.15159888,  0.25089752],\n",
       "       [ 1.01500188, -0.27771475,  0.25460351]])"
      ]
     },
     "execution_count": 421,
     "metadata": {},
     "output_type": "execute_result"
    }
   ],
   "source": [
    "svd = TruncatedSVD(n_components=3)\n",
    "compressed = svd.fit_transform(feat_matrix)\n",
    "compressed"
   ]
  },
  {
   "cell_type": "code",
   "execution_count": 426,
   "id": "43741210-c7f1-45e3-96bd-3ead4e8d7323",
   "metadata": {},
   "outputs": [
    {
     "data": {
      "image/png": "[encoded data removed]",
      "text/plain": [
       "<Figure size 720x1080 with 1 Axes>"
      ]
     },
     "metadata": {},
     "output_type": "display_data"
    }
   ],
   "source": [
    "sns.scatterplot(x=compressed[:,0], y=compressed[:,1])\n",
    "for i,c in enumerate(countries):\n",
    "    codes = df['alpha-2'].to_list()\n",
    "    names = df['country'].to_list()\n",
    "    \n",
    "    plt.text(compressed[i,0], compressed[i,2], names[codes.index(c)], horizontalalignment='left', size='small', color='black', weight='normal')\n",
    "    #plt.text(compressed[i,1], compressed[i,2], names[codes.index(c)], horizontalalignment='left', size='small', color='black', weight='normal')\n"
   ]
  },
  {
   "cell_type": "code",
   "execution_count": null,
   "id": "d6bec4c5-9b86-49b8-875c-ab03b4f3d6cb",
   "metadata": {},
   "outputs": [],
   "source": []
  }
 ],
 "metadata": {
  "kernelspec": {
   "display_name": "Python 3 (ipykernel)",
   "language": "python",
   "name": "python3"
  },
  "language_info": {
   "codemirror_mode": {
    "name": "ipython",
    "version": 3
   },
   "file_extension": ".py",
   "mimetype": "text/x-python",
   "name": "python",
   "nbconvert_exporter": "python",
   "pygments_lexer": "ipython3",
   "version": "3.9.6"
  }
 },
 "nbformat": 4,
 "nbformat_minor": 5
}
