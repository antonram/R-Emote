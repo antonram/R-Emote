{
 "cells": [
  {
   "cell_type": "markdown",
   "metadata": {
    "id": "qT03x4PgelJX"
   },
   "source": [
    "**Import Data Set:**\n",
    "\n",
    "The basic idea behind classification based supervised machine learning is to develop a model that can train on input data and then make classifications on new data. Finding large amounts of data that is representative of your population is a difficult task. Luckily, sklearn has a bunch of datasets that are practical for our academic needs so we can use their data. However, in general, it is time-consuming and difficult to collect data and format it for a machine learning model to use.\n",
    "\n",
    "**Run the code below** to import our data set."
   ]
  },
  {
   "cell_type": "code",
   "execution_count": 1,
   "metadata": {
    "id": "rmHFFdJiXHfw"
   },
   "outputs": [],
   "source": [
    "#Import scikit-learn dataset library\n",
    "from sklearn import datasets\n",
    "\n",
    "#Load dataset\n",
    "cancer = datasets.load_breast_cancer()"
   ]
  },
  {
   "cell_type": "markdown",
   "metadata": {
    "id": "MR4thJ0Be2a6"
   },
   "source": [
    "**Features and Labels:**\n",
    "\n",
    "In supervised machine learning, we give our model a series of data points. In order for the model to learn from this data, each data point must have two components: features and labels.\n",
    "\n",
    "**Features** are values that the machine learning model can use to classify a data point. For example, if your data points are animals and you are trying to classify dogs, cats, etc. then some features could be height, weight, etc.\n",
    "\n",
    "**Labels** are the different types of classifications that the machine learning model can make. For example, if you are trying to classify animals, your labels could be \"Dog\", \"Cat\", etc.\n",
    "\n",
    "**Run the code below** to look at the various features and labels that we will be using for our breast cancer classifier."
   ]
  },
  {
   "cell_type": "code",
   "execution_count": 2,
   "metadata": {
    "colab": {
     "base_uri": "https://localhost:8080/"
    },
    "id": "8DguVyHce26u",
    "outputId": "67da77ff-e7a3-44e2-f333-9ee293eb3b43"
   },
   "outputs": [
    {
     "name": "stdout",
     "output_type": "stream",
     "text": [
      "Features:  ['mean radius' 'mean texture' 'mean perimeter' 'mean area'\n",
      " 'mean smoothness' 'mean compactness' 'mean concavity'\n",
      " 'mean concave points' 'mean symmetry' 'mean fractal dimension'\n",
      " 'radius error' 'texture error' 'perimeter error' 'area error'\n",
      " 'smoothness error' 'compactness error' 'concavity error'\n",
      " 'concave points error' 'symmetry error' 'fractal dimension error'\n",
      " 'worst radius' 'worst texture' 'worst perimeter' 'worst area'\n",
      " 'worst smoothness' 'worst compactness' 'worst concavity'\n",
      " 'worst concave points' 'worst symmetry' 'worst fractal dimension']\n",
      "Labels:  ['malignant' 'benign']\n"
     ]
    }
   ],
   "source": [
    "# print the names of the 13 features\n",
    "print(\"Features: \", cancer.feature_names)\n",
    "\n",
    "# print the label type of cancer('malignant' 'benign')\n",
    "print(\"Labels: \", cancer.target_names)"
   ]
  },
  {
   "cell_type": "markdown",
   "metadata": {
    "id": "1O2PqjA0e3Sb"
   },
   "source": [
    "**Splitting Data:**\n",
    "\n",
    "There are three main phases of a machine learning model's life-cycle: Training, Validation, and Deployment.\n",
    "\n",
    "**Training:** Before a machine learning model can perform its regression/classification task, it must \"learn\" by observing a set of training data. It is important to make sure you have a large amount of training data and that your training data is representative of your population.\n",
    "\n",
    "**Validation:** Once a machine learning model has been trained, it must be validated to ensure that it will work well with data it has not seen before. If we validated with data the machine learning model with data it trained with, then it would not be impressive if it did well because it already saw the answer. Thus it is important to have a set of data points, separate from the training data, that will be used for the validation process.\n",
    "\n",
    "**Deployment:** Once a machine learning model has been validated, it can put used in the desired application. \n",
    "\n",
    "In the context of this lab, we have already imported our data. However, we need to split this data into training and validation data. Luckily, sklearn has a function that will split the data for us.\n",
    "\n",
    "**Run the code below** to separate our data into training data and validation data."
   ]
  },
  {
   "cell_type": "code",
   "execution_count": 9,
   "metadata": {
    "id": "AtXnCw2se3cf"
   },
   "outputs": [],
   "source": [
    "# Import train_test_split function\n",
    "from sklearn.model_selection import train_test_split\n",
    "\n",
    "# Split dataset into training set and test set\n",
    "features_train, features_test, labels_train, labels_test = train_test_split(cancer.data, cancer.target, test_size=0.3,random_state=109) # 70% training and 30% test"
   ]
  },
  {
   "cell_type": "markdown",
   "metadata": {
    "id": "uligUtpCfmJE"
   },
   "source": [
    "**Generating A Model:**\n",
    "\n",
    "There are many types of supervised machine learning models. One of the most popular is Support Vector Machine (SVM). The theory behind SVM goes beyond the scope of this lab, however if you are interested in learning more, here is a link to a high-level explanation: https://towardsdatascience.com/support-vector-machine-simply-explained-fee28eba5496.\n",
    "\n",
    "If you are interested in learning more about machine learning models/theory, look to take courses such as Math 447, CSCI 467, CSCI 567, EE 541, EE 559, EE 641, etc.\n"
   ]
  },
  {
   "cell_type": "code",
   "execution_count": 10,
   "metadata": {
    "id": "KBsFZ3Sjfzo0"
   },
   "outputs": [],
   "source": [
    "#Import svm model\n",
    "from sklearn import svm\n",
    "\n",
    "#Create a svm Classifier\n",
    "clf = svm.SVC(kernel='linear') # Linear Kernel - see the SVM API for alternative kernels\n",
    "\n",
    "#Train the model using the training sets\n",
    "clf.fit(features_train, labels_train)\n",
    "\n",
    "#Predict the response for test dataset\n",
    "labels_pred = clf.predict(features_test)"
   ]
  },
  {
   "cell_type": "markdown",
   "metadata": {
    "id": "pqwjhMAtguRL"
   },
   "source": [
    "**Validation:**\n",
    "\n",
    "Now that we have trained our model, it is time for us to determine how well it will work. There are many statistics that can be used to quantify the \"goodness\" of the trained algorithm, and in this case we will use accuracy, precision, and recall.\n",
    "\n",
    "**Accuracy:** This measures how often the trained machine learning classifier  was able to successfully label the validation data.\n",
    "\n",
    "> Accuracy = $\\frac{Num Correct}{Num Validation Data}$\n",
    "\n",
    "**Precision:** This measures the portion of positive values that was actually correct.\n",
    "\n",
    "> Precision = $\\frac{True Positive}{True Positive + False Positive}$\n",
    "\n",
    "**Recall:** This measures the portion of actual positives that was labeled correctly.\n",
    "\n",
    "> Recall = $\\frac{True Positive}{True Positive + False Negative}$\n",
    "\n",
    "**Run the code below** to calculate these statistics.\n"
   ]
  },
  {
   "cell_type": "code",
   "execution_count": 12,
   "metadata": {
    "colab": {
     "base_uri": "https://localhost:8080/"
    },
    "id": "g8Jp1DWsgu6R",
    "outputId": "81093f49-a1cf-485d-c8bb-645677ffe2b5"
   },
   "outputs": [
    {
     "name": "stdout",
     "output_type": "stream",
     "text": [
      "Accuracy: 0.9649122807017544\n",
      "Precision: 0.9811320754716981\n",
      "Recall: 0.9629629629629629\n"
     ]
    }
   ],
   "source": [
    "#Import scikit-learn metrics module for accuracy calculation\n",
    "from sklearn import metrics\n",
    "\n",
    "# Model Accuracy: how often is the classifier correct?\n",
    "print(\"Accuracy:\",metrics.accuracy_score(labels_test, labels_pred))\n",
    "\n",
    "# Model Precision: what percentage of positive tuples are labeled as such?\n",
    "print(\"Precision:\",metrics.precision_score(labels_test, labels_pred))\n",
    "\n",
    "# Model Recall: what percentage of positive tuples are labelled as such?\n",
    "print(\"Recall:\",metrics.recall_score(labels_test, labels_pred))"
   ]
  },
  {
   "cell_type": "code",
   "execution_count": null,
   "metadata": {},
   "outputs": [],
   "source": []
  }
 ],
 "metadata": {
  "colab": {
   "collapsed_sections": [],
   "name": "SVM_Example.ipynb",
   "provenance": []
  },
  "kernelspec": {
   "display_name": "Python 3 (ipykernel)",
   "language": "python",
   "name": "python3"
  },
  "language_info": {
   "codemirror_mode": {
    "name": "ipython",
    "version": 3
   },
   "file_extension": ".py",
   "mimetype": "text/x-python",
   "name": "python",
   "nbconvert_exporter": "python",
   "pygments_lexer": "ipython3",
   "version": "3.9.7"
  }
 },
 "nbformat": 4,
 "nbformat_minor": 4
}
